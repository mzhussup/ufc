{
 "cells": [
  {
   "cell_type": "markdown",
   "id": "e3495b9f-f00c-4639-ba29-6842bd3afc9f",
   "metadata": {},
   "source": [
    "Analysis of UFC dataset from Kaggle. The data was collected up to UFC 300. \n",
    "\n",
    "Link to the dataset: https://www.kaggle.com/datasets/mdabbert/ultimate-ufc-dataset"
   ]
  },
  {
   "cell_type": "code",
   "execution_count": 1,
   "id": "04b3ca69-1854-45bb-872d-27b3e17e259e",
   "metadata": {},
   "outputs": [],
   "source": [
    "import pandas as pd"
   ]
  },
  {
   "cell_type": "code",
   "execution_count": null,
   "id": "3786515c-9a45-4aab-986e-5b47e046d24f",
   "metadata": {},
   "outputs": [],
   "source": []
  }
 ],
 "metadata": {
  "kernelspec": {
   "display_name": "Python 3 (ipykernel)",
   "language": "python",
   "name": "python3"
  },
  "language_info": {
   "codemirror_mode": {
    "name": "ipython",
    "version": 3
   },
   "file_extension": ".py",
   "mimetype": "text/x-python",
   "name": "python",
   "nbconvert_exporter": "python",
   "pygments_lexer": "ipython3",
   "version": "3.12.9"
  }
 },
 "nbformat": 4,
 "nbformat_minor": 5
}
